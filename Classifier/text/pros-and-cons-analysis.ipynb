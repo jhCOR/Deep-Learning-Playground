{
 "cells": [
  {
   "cell_type": "code",
   "execution_count": 3,
   "id": "de53ee20",
   "metadata": {
    "execution": {
     "iopub.execute_input": "2021-12-05T11:49:45.963501Z",
     "iopub.status.busy": "2021-12-05T11:49:45.962808Z",
     "iopub.status.idle": "2021-12-05T11:49:52.720774Z",
     "shell.execute_reply": "2021-12-05T11:49:52.719673Z",
     "shell.execute_reply.started": "2021-12-05T02:02:32.396126Z"
    },
    "papermill": {
     "duration": 6.779539,
     "end_time": "2021-12-05T11:49:52.720961",
     "exception": false,
     "start_time": "2021-12-05T11:49:45.941422",
     "status": "completed"
    },
    "tags": []
   },
   "outputs": [],
   "source": [
    "import numpy as np\n",
    "\n",
    "import tensorflow_datasets as tfds\n",
    "import tensorflow as tf\n",
    "\n",
    "tfds.disable_progress_bar()"
   ]
  },
  {
   "cell_type": "code",
   "execution_count": 4,
   "id": "d832727d",
   "metadata": {
    "execution": {
     "iopub.execute_input": "2021-12-05T11:49:52.765136Z",
     "iopub.status.busy": "2021-12-05T11:49:52.764431Z",
     "iopub.status.idle": "2021-12-05T11:49:52.766038Z",
     "shell.execute_reply": "2021-12-05T11:49:52.766545Z",
     "shell.execute_reply.started": "2021-12-05T02:02:39.186679Z"
    },
    "papermill": {
     "duration": 0.027221,
     "end_time": "2021-12-05T11:49:52.766707",
     "exception": false,
     "start_time": "2021-12-05T11:49:52.739486",
     "status": "completed"
    },
    "tags": []
   },
   "outputs": [],
   "source": [
    "import matplotlib.pyplot as plt\n",
    "\n",
    "\n",
    "def plot_graphs(history, metric):\n",
    "  plt.plot(history.history[metric])\n",
    "  plt.plot(history.history['val_'+metric], '')\n",
    "  plt.xlabel(\"Epochs\")\n",
    "  plt.ylabel(metric)\n",
    "  plt.legend([metric, 'val_'+metric])"
   ]
  },
  {
   "cell_type": "code",
   "execution_count": 5,
   "id": "60dba9ea",
   "metadata": {
    "execution": {
     "iopub.execute_input": "2021-12-05T11:49:52.806860Z",
     "iopub.status.busy": "2021-12-05T11:49:52.806199Z",
     "iopub.status.idle": "2021-12-05T11:49:53.073678Z",
     "shell.execute_reply": "2021-12-05T11:49:53.073163Z",
     "shell.execute_reply.started": "2021-12-05T02:02:40.872558Z"
    },
    "papermill": {
     "duration": 0.28862,
     "end_time": "2021-12-05T11:49:53.073914",
     "exception": false,
     "start_time": "2021-12-05T11:49:52.785294",
     "status": "completed"
    },
    "tags": []
   },
   "outputs": [
    {
     "name": "stdout",
     "output_type": "stream",
     "text": [
      "                                                sentence  label\n",
      "0                             Eats...no, GULPS batteries      0\n",
      "1      Awkward ergonomics, no optical viewfinder, sho...      0\n",
      "2                  Battery eating beast/slow to recharge      0\n",
      "3                      power runs out before pictures do      0\n",
      "4                   Slow, high battery consumption rate.      0\n",
      "...                                                  ...    ...\n",
      "22929  Little bulky but easily fits in pocket....othe...      0\n",
      "22930  LEMONNNNNNN. size, weight, everything I mentio...      0\n",
      "22931  Lackluster mediocrity, poorly thought through ...      0\n",
      "22932     Large size, minor design flaws (not ergonomic)      0\n",
      "22933             Bulky, no video camera, texting system      0\n",
      "\n",
      "[22934 rows x 2 columns]\n",
      "                                                sentence  label\n",
      "0      Digital is where it's at...down with developin...      1\n",
      "1      Good image quality, 3x optical zoom, macro mod...      1\n",
      "2      Awesome features/easy to use/fun/versatile/low...      1\n",
      "3                               intuitive, user friendly      1\n",
      "4                             Simple, Flexable, Reliable      1\n",
      "...                                                  ...    ...\n",
      "22934  Big screen, good battery life, clear connectio...      1\n",
      "22935  well if it weren't a lemon... voice activation...      1\n",
      "22936                                  Good battery life      1\n",
      "22937  Battery life, speakerphone, ready-link enabled...      1\n",
      "22938  Voice recorder, navigation, screen quality, sp...      1\n",
      "\n",
      "[22939 rows x 2 columns]\n",
      "0        most pictures come out well, looks, easy to us...\n",
      "1        Power switch hard to use. Viewfinder a little ...\n",
      "2                Sound quality and phone quality problems.\n",
      "3        Still high cost, no duplexer, no infrared port...\n",
      "4        Full page text (BxW or color)or photos print m...\n",
      "                               ...                        \n",
      "31995    Great starter digital, awesome pics, price, ab...\n",
      "31996                   Ericsson has good service centers.\n",
      "31997                                  haven't found one!!\n",
      "31998    Small starter Memory Stick, no physical viewfi...\n",
      "31999                      lens, software that is included\n",
      "Name: sentence, Length: 32000, dtype: object\n"
     ]
    }
   ],
   "source": [
    "import pandas as pd\n",
    "reviews_cons = pd.read_csv(\"../input/pros-an-cons/pros_cons/IntegratedCons.txt\" , sep='\\n')\n",
    "reviews_pros = pd.read_csv(\"../input/pros-an-cons/pros_cons/IntegratedPros.txt\" , sep='\\n')\n",
    "\n",
    "reviews_cons.columns = ['sentence']\n",
    "reviews_pros.columns = ['sentence']\n",
    "\n",
    "train_input_c=[]\n",
    "for val in reviews_cons['sentence']:\n",
    "    sentence = str(val).replace('<Cons>','').replace('</Cons>','').strip()\n",
    "    train_input_c.append(sentence)\n",
    "    \n",
    "train_input_p=[]\n",
    "for val in reviews_pros['sentence']:\n",
    "    sentence = str(val).replace('<Pros>','').replace('</Pros>','').strip()\n",
    "    train_input_p.append(sentence)\n",
    "\n",
    "reviews_cons = pd.DataFrame({'sentence':train_input_c})\n",
    "reviews_cons.loc[:,'label'] = [0 for i in range(len(reviews_cons))]\n",
    "print(reviews_cons)\n",
    "\n",
    "reviews_pros = pd.DataFrame({'sentence':train_input_p})\n",
    "reviews_pros.loc[:,'label'] = [1 for i in range(len(reviews_pros))]\n",
    "print(reviews_pros)\n",
    "\n",
    "reviews=reviews_cons.append(reviews_pros)\n",
    "reviews_suffled = reviews.sample(frac=1).reset_index(drop=True) \n",
    "\n",
    "print(reviews_suffled['sentence'][:32000])\n",
    "\n",
    "train_label=[r[1] for r in reviews_suffled.to_numpy().tolist()]"
   ]
  },
  {
   "cell_type": "code",
   "execution_count": 6,
   "id": "54b2717d",
   "metadata": {
    "execution": {
     "iopub.execute_input": "2021-12-05T11:49:53.130846Z",
     "iopub.status.busy": "2021-12-05T11:49:53.130072Z",
     "iopub.status.idle": "2021-12-05T11:49:53.177595Z",
     "shell.execute_reply": "2021-12-05T11:49:53.178287Z",
     "shell.execute_reply.started": "2021-12-05T02:02:44.438253Z"
    },
    "papermill": {
     "duration": 0.08563,
     "end_time": "2021-12-05T11:49:53.178470",
     "exception": false,
     "start_time": "2021-12-05T11:49:53.092840",
     "status": "completed"
    },
    "tags": []
   },
   "outputs": [
    {
     "name": "stderr",
     "output_type": "stream",
     "text": [
      "\n",
      "User settings:\n",
      "\n",
      "   KMP_AFFINITY=granularity=fine,verbose,compact,1,0\n",
      "   KMP_BLOCKTIME=0\n",
      "   KMP_SETTINGS=1\n",
      "   KMP_WARNINGS=0\n",
      "\n",
      "Effective settings:\n",
      "\n",
      "   KMP_ABORT_DELAY=0\n",
      "   KMP_ADAPTIVE_LOCK_PROPS='1,1024'\n",
      "   KMP_ALIGN_ALLOC=64\n",
      "   KMP_ALL_THREADPRIVATE=128\n",
      "   KMP_ATOMIC_MODE=2\n",
      "   KMP_BLOCKTIME=0\n",
      "   KMP_CPUINFO_FILE: value is not defined\n",
      "   KMP_DETERMINISTIC_REDUCTION=false\n",
      "   KMP_DEVICE_THREAD_LIMIT=2147483647\n",
      "   KMP_DISP_NUM_BUFFERS=7\n",
      "   KMP_DUPLICATE_LIB_OK=false\n",
      "   KMP_ENABLE_TASK_THROTTLING=true\n",
      "   KMP_FORCE_REDUCTION: value is not defined\n",
      "   KMP_FOREIGN_THREADS_THREADPRIVATE=true\n",
      "   KMP_FORKJOIN_BARRIER='2,2'\n",
      "   KMP_FORKJOIN_BARRIER_PATTERN='hyper,hyper'\n",
      "   KMP_GTID_MODE=3\n",
      "   KMP_HANDLE_SIGNALS=false\n",
      "   KMP_HOT_TEAMS_MAX_LEVEL=1\n",
      "   KMP_HOT_TEAMS_MODE=0\n",
      "   KMP_INIT_AT_FORK=true\n",
      "   KMP_LIBRARY=throughput\n",
      "   KMP_LOCK_KIND=queuing\n",
      "   KMP_MALLOC_POOL_INCR=1M\n",
      "   KMP_NUM_LOCKS_IN_BLOCK=1\n",
      "   KMP_PLAIN_BARRIER='2,2'\n",
      "   KMP_PLAIN_BARRIER_PATTERN='hyper,hyper'\n",
      "   KMP_REDUCTION_BARRIER='1,1'\n",
      "   KMP_REDUCTION_BARRIER_PATTERN='hyper,hyper'\n",
      "   KMP_SCHEDULE='static,balanced;guided,iterative'\n",
      "   KMP_SETTINGS=true\n",
      "   KMP_SPIN_BACKOFF_PARAMS='4096,100'\n",
      "   KMP_STACKOFFSET=64\n",
      "   KMP_STACKPAD=0\n",
      "   KMP_STACKSIZE=8M\n",
      "   KMP_STORAGE_MAP=false\n",
      "   KMP_TASKING=2\n",
      "   KMP_TASKLOOP_MIN_TASKS=0\n",
      "   KMP_TASK_STEALING_CONSTRAINT=1\n",
      "   KMP_TEAMS_THREAD_LIMIT=4\n",
      "   KMP_TOPOLOGY_METHOD=all\n",
      "   KMP_USE_YIELD=1\n",
      "   KMP_VERSION=false\n",
      "   KMP_WARNINGS=false\n",
      "   OMP_AFFINITY_FORMAT='OMP: pid %P tid %i thread %n bound to OS proc set {%A}'\n",
      "   OMP_ALLOCATOR=omp_default_mem_alloc\n",
      "   OMP_CANCELLATION=false\n",
      "   OMP_DEFAULT_DEVICE=0\n",
      "   OMP_DISPLAY_AFFINITY=false\n",
      "   OMP_DISPLAY_ENV=false\n",
      "   OMP_DYNAMIC=false\n",
      "   OMP_MAX_ACTIVE_LEVELS=1\n",
      "   OMP_MAX_TASK_PRIORITY=0\n",
      "   OMP_NESTED: deprecated; max-active-levels-var=1\n",
      "   OMP_NUM_THREADS: value is not defined\n",
      "   OMP_PLACES: value is not defined\n",
      "   OMP_PROC_BIND='intel'\n",
      "   OMP_SCHEDULE='static'\n",
      "   OMP_STACKSIZE=8M\n",
      "   OMP_TARGET_OFFLOAD=DEFAULT\n",
      "   OMP_THREAD_LIMIT=2147483647\n",
      "   OMP_WAIT_POLICY=PASSIVE\n",
      "   KMP_AFFINITY='verbose,warnings,respect,granularity=fine,compact,1,0'\n",
      "\n",
      "2021-12-05 11:49:53.139283: I tensorflow/core/common_runtime/process_util.cc:146] Creating new thread pool with default inter op setting: 2. Tune using inter_op_parallelism_threads for best performance.\n"
     ]
    }
   ],
   "source": [
    "train_dataset = tf.data.Dataset.from_tensor_slices((reviews_suffled['sentence'][:32000].to_numpy(),np.array(train_label[:32000])))\n",
    "train_dataset = train_dataset.shuffle(1000).repeat(1).batch(20)"
   ]
  },
  {
   "cell_type": "code",
   "execution_count": 7,
   "id": "9d6b30f3",
   "metadata": {
    "execution": {
     "iopub.execute_input": "2021-12-05T11:49:53.227038Z",
     "iopub.status.busy": "2021-12-05T11:49:53.226305Z",
     "iopub.status.idle": "2021-12-05T11:49:53.230188Z",
     "shell.execute_reply": "2021-12-05T11:49:53.230737Z",
     "shell.execute_reply.started": "2021-12-05T02:02:47.591684Z"
    },
    "papermill": {
     "duration": 0.032832,
     "end_time": "2021-12-05T11:49:53.230950",
     "exception": false,
     "start_time": "2021-12-05T11:49:53.198118",
     "status": "completed"
    },
    "tags": []
   },
   "outputs": [],
   "source": [
    "vaild_dataset = tf.data.Dataset.from_tensor_slices((reviews_suffled['sentence'][32000:40000].to_numpy(),np.array(train_label[32000:40000])))\n",
    "vaild_dataset = vaild_dataset.shuffle(1000).repeat(1).batch(10)"
   ]
  },
  {
   "cell_type": "code",
   "execution_count": 8,
   "id": "0d9ed5bb",
   "metadata": {
    "execution": {
     "iopub.execute_input": "2021-12-05T11:49:53.275673Z",
     "iopub.status.busy": "2021-12-05T11:49:53.275001Z",
     "iopub.status.idle": "2021-12-05T11:49:53.325294Z",
     "shell.execute_reply": "2021-12-05T11:49:53.324576Z",
     "shell.execute_reply.started": "2021-12-05T02:02:51.517672Z"
    },
    "papermill": {
     "duration": 0.075063,
     "end_time": "2021-12-05T11:49:53.325448",
     "exception": false,
     "start_time": "2021-12-05T11:49:53.250385",
     "status": "completed"
    },
    "tags": []
   },
   "outputs": [
    {
     "name": "stdout",
     "output_type": "stream",
     "text": [
      "text:  [b'Dimensions, Features'\n",
      " b'Power switch hard to use. Viewfinder a little off-center.'\n",
      " b'Weak Speakerphone, small size, costly downloads'\n",
      " b'Fast printing, easy set-up, cheap ink.'\n",
      " b'Good price on a personal laser printer. Crisp printing.'\n",
      " b'Rock reliable, extendable antenna, inexpensive, good performance'\n",
      " b'Stylish, Reasonable Amount of Features, Melody Composer, One Touch Internet, Light, Great Quality, Computer Connection'\n",
      " b'This phone can do mp3,FULL movies,and just about everything but cook you dinner.'\n",
      " b'not the most attractive' b'small, simple, cheap' b'low battery life'\n",
      " b'Inexpensive, Well rounded, Good Battery Life'\n",
      " b'Learning curve is steep for advanced features.  Lens cap not attached.  Worthless software package.'\n",
      " b'Sometimes weak signal, even on interstates . . .'\n",
      " b'User friendly, even my 6 year old can use it.'\n",
      " b\"Some photos had red eye, doesn't come with carrying case\"\n",
      " b'Worked well , while it worked.'\n",
      " b'It takes awhile sometimes to take a photo.'\n",
      " b'Unreliable, poor Quality Control, no zoom'\n",
      " b'Relatively low-cost, decent picture quality and simple to use']\n",
      "label:  [1 0 0 1 1 1 1 1 0 1 0 1 0 0 1 0 1 0 0 1]\n"
     ]
    }
   ],
   "source": [
    "for example, label in train_dataset.take(1):\n",
    "  print('text: ', example.numpy())\n",
    "  print('label: ', label.numpy())"
   ]
  },
  {
   "cell_type": "code",
   "execution_count": 9,
   "id": "abb8b281",
   "metadata": {
    "execution": {
     "iopub.execute_input": "2021-12-05T11:49:53.371826Z",
     "iopub.status.busy": "2021-12-05T11:49:53.371123Z",
     "iopub.status.idle": "2021-12-05T11:49:55.858496Z",
     "shell.execute_reply": "2021-12-05T11:49:55.857905Z",
     "shell.execute_reply.started": "2021-12-05T02:02:54.029269Z"
    },
    "papermill": {
     "duration": 2.513314,
     "end_time": "2021-12-05T11:49:55.858656",
     "exception": false,
     "start_time": "2021-12-05T11:49:53.345342",
     "status": "completed"
    },
    "tags": []
   },
   "outputs": [
    {
     "name": "stderr",
     "output_type": "stream",
     "text": [
      "2021-12-05 11:49:54.736551: I tensorflow/compiler/mlir/mlir_graph_optimization_pass.cc:185] None of the MLIR Optimization Passes are enabled (registered 2)\n"
     ]
    }
   ],
   "source": [
    "VOCAB_SIZE = 1000\n",
    "encoder = tf.keras.layers.TextVectorization(\n",
    "    max_tokens=VOCAB_SIZE)\n",
    "\n",
    "encoder.adapt(train_dataset.map(lambda text, label: text))"
   ]
  },
  {
   "cell_type": "code",
   "execution_count": 10,
   "id": "a6f1db1e",
   "metadata": {
    "execution": {
     "iopub.execute_input": "2021-12-05T11:49:55.904700Z",
     "iopub.status.busy": "2021-12-05T11:49:55.902774Z",
     "iopub.status.idle": "2021-12-05T11:49:55.916117Z",
     "shell.execute_reply": "2021-12-05T11:49:55.916648Z",
     "shell.execute_reply.started": "2021-12-05T02:02:56.490824Z"
    },
    "papermill": {
     "duration": 0.038058,
     "end_time": "2021-12-05T11:49:55.916817",
     "exception": false,
     "start_time": "2021-12-05T11:49:55.878759",
     "status": "completed"
    },
    "tags": []
   },
   "outputs": [
    {
     "data": {
      "text/plain": [
       "array(['', '[UNK]', 'to', 'and', 'quality', 'use', 'great', 'easy', 'of',\n",
       "       'a', 'the', 'battery', 'good', 'no', 'small', 'for', 'life', 'not',\n",
       "       'is', 'price'], dtype='<U13')"
      ]
     },
     "execution_count": 10,
     "metadata": {},
     "output_type": "execute_result"
    }
   ],
   "source": [
    "vocab = np.array(encoder.get_vocabulary())\n",
    "len(vocab)\n",
    "vocab[:20]"
   ]
  },
  {
   "cell_type": "code",
   "execution_count": 11,
   "id": "55731cd4",
   "metadata": {
    "execution": {
     "iopub.execute_input": "2021-12-05T11:49:55.963631Z",
     "iopub.status.busy": "2021-12-05T11:49:55.962783Z",
     "iopub.status.idle": "2021-12-05T11:49:56.037203Z",
     "shell.execute_reply": "2021-12-05T11:49:56.036608Z",
     "shell.execute_reply.started": "2021-12-05T02:02:57.612237Z"
    },
    "papermill": {
     "duration": 0.099731,
     "end_time": "2021-12-05T11:49:56.037346",
     "exception": false,
     "start_time": "2021-12-05T11:49:55.937615",
     "status": "completed"
    },
    "tags": []
   },
   "outputs": [
    {
     "name": "stdout",
     "output_type": "stream",
     "text": [
      "tf.Tensor(\n",
      "[b'Dimensions, Features'\n",
      " b'Power switch hard to use. Viewfinder a little off-center.'\n",
      " b'Weak Speakerphone, small size, costly downloads'], shape=(3,), dtype=string)\n"
     ]
    },
    {
     "data": {
      "text/plain": [
       "array([[  1,  20,   0,   0,   0,   0,   0,   0,   0,   0,   0,   0,   0,\n",
       "          0,   0],\n",
       "       [198, 706,  82,   2,   5, 225,   9,  54,   1,   0,   0,   0,   0,\n",
       "          0,   0],\n",
       "       [153, 133,  14,  22, 564, 875,   0,   0,   0,   0,   0,   0,   0,\n",
       "          0,   0]])"
      ]
     },
     "execution_count": 11,
     "metadata": {},
     "output_type": "execute_result"
    }
   ],
   "source": [
    "print(example[:3])\n",
    "encoded_example = encoder(example)[:3].numpy()\n",
    "encoded_example"
   ]
  },
  {
   "cell_type": "code",
   "execution_count": 12,
   "id": "ba12903d",
   "metadata": {
    "execution": {
     "iopub.execute_input": "2021-12-05T11:49:56.086298Z",
     "iopub.status.busy": "2021-12-05T11:49:56.085560Z",
     "iopub.status.idle": "2021-12-05T11:49:56.094433Z",
     "shell.execute_reply": "2021-12-05T11:49:56.093707Z",
     "shell.execute_reply.started": "2021-12-05T02:03:00.445911Z"
    },
    "papermill": {
     "duration": 0.036238,
     "end_time": "2021-12-05T11:49:56.094588",
     "exception": false,
     "start_time": "2021-12-05T11:49:56.058350",
     "status": "completed"
    },
    "tags": []
   },
   "outputs": [
    {
     "name": "stdout",
     "output_type": "stream",
     "text": [
      "Original:  b'Dimensions, Features'\n",
      "Round-trip:  [UNK] features             \n",
      "\n",
      "Original:  b'Power switch hard to use. Viewfinder a little off-center.'\n",
      "Round-trip:  power switch hard to use viewfinder a little [UNK]      \n",
      "\n",
      "Original:  b'Weak Speakerphone, small size, costly downloads'\n",
      "Round-trip:  weak speakerphone small size costly downloads         \n",
      "\n"
     ]
    }
   ],
   "source": [
    "for n in range(3):\n",
    "  print(\"Original: \", example[n].numpy())\n",
    "  print(\"Round-trip: \", \" \".join(vocab[encoded_example[n]]))\n",
    "  print()"
   ]
  },
  {
   "cell_type": "code",
   "execution_count": 13,
   "id": "e1591bc9",
   "metadata": {
    "execution": {
     "iopub.execute_input": "2021-12-05T11:49:56.144076Z",
     "iopub.status.busy": "2021-12-05T11:49:56.143354Z",
     "iopub.status.idle": "2021-12-05T11:49:59.587511Z",
     "shell.execute_reply": "2021-12-05T11:49:59.586969Z",
     "shell.execute_reply.started": "2021-12-05T02:03:02.948363Z"
    },
    "papermill": {
     "duration": 3.470721,
     "end_time": "2021-12-05T11:49:59.587659",
     "exception": false,
     "start_time": "2021-12-05T11:49:56.116938",
     "status": "completed"
    },
    "tags": []
   },
   "outputs": [],
   "source": [
    "model = tf.keras.Sequential([\n",
    "    encoder,\n",
    "    tf.keras.layers.Embedding(len(encoder.get_vocabulary()), 64, mask_zero=True),\n",
    "    tf.keras.layers.Bidirectional(tf.keras.layers.LSTM(64,  return_sequences=True)),\n",
    "    tf.keras.layers.Bidirectional(tf.keras.layers.LSTM(32)),\n",
    "    tf.keras.layers.Dense(64, activation='relu'),\n",
    "    tf.keras.layers.Dropout(0.5),\n",
    "    tf.keras.layers.Dense(1)\n",
    "])"
   ]
  },
  {
   "cell_type": "code",
   "execution_count": 14,
   "id": "535d5287",
   "metadata": {
    "execution": {
     "iopub.execute_input": "2021-12-05T11:49:59.633516Z",
     "iopub.status.busy": "2021-12-05T11:49:59.632848Z",
     "iopub.status.idle": "2021-12-05T11:49:59.638553Z",
     "shell.execute_reply": "2021-12-05T11:49:59.638025Z",
     "shell.execute_reply.started": "2021-12-05T02:03:06.229514Z"
    },
    "papermill": {
     "duration": 0.029648,
     "end_time": "2021-12-05T11:49:59.638699",
     "exception": false,
     "start_time": "2021-12-05T11:49:59.609051",
     "status": "completed"
    },
    "tags": []
   },
   "outputs": [
    {
     "name": "stdout",
     "output_type": "stream",
     "text": [
      "[False, True, True, True, True, True, True]\n"
     ]
    }
   ],
   "source": [
    "print([layer.supports_masking for layer in model.layers])"
   ]
  },
  {
   "cell_type": "code",
   "execution_count": 15,
   "id": "81cfc9d4",
   "metadata": {
    "execution": {
     "iopub.execute_input": "2021-12-05T11:49:59.688907Z",
     "iopub.status.busy": "2021-12-05T11:49:59.687945Z",
     "iopub.status.idle": "2021-12-05T11:50:04.675098Z",
     "shell.execute_reply": "2021-12-05T11:50:04.674352Z",
     "shell.execute_reply.started": "2021-12-05T02:03:07.708457Z"
    },
    "papermill": {
     "duration": 5.014858,
     "end_time": "2021-12-05T11:50:04.675254",
     "exception": false,
     "start_time": "2021-12-05T11:49:59.660396",
     "status": "completed"
    },
    "tags": []
   },
   "outputs": [
    {
     "name": "stdout",
     "output_type": "stream",
     "text": [
      "[0.00344436]\n"
     ]
    }
   ],
   "source": [
    "sample_text = ('The movie was cool. The animation and the graphics '\n",
    "               'were out of this world. I would recommend this movie.')\n",
    "predictions = model.predict(np.array([sample_text]))\n",
    "print(predictions[0])"
   ]
  },
  {
   "cell_type": "code",
   "execution_count": 16,
   "id": "ef5cb892",
   "metadata": {
    "execution": {
     "iopub.execute_input": "2021-12-05T11:50:04.722460Z",
     "iopub.status.busy": "2021-12-05T11:50:04.721704Z",
     "iopub.status.idle": "2021-12-05T11:50:05.098838Z",
     "shell.execute_reply": "2021-12-05T11:50:05.099443Z",
     "shell.execute_reply.started": "2021-12-05T02:03:12.873943Z"
    },
    "papermill": {
     "duration": 0.402208,
     "end_time": "2021-12-05T11:50:05.099639",
     "exception": false,
     "start_time": "2021-12-05T11:50:04.697431",
     "status": "completed"
    },
    "tags": []
   },
   "outputs": [
    {
     "name": "stdout",
     "output_type": "stream",
     "text": [
      "[0.00344436]\n"
     ]
    }
   ],
   "source": [
    "# predict on a sample text with padding\n",
    "\n",
    "padding = \"the \" * 2000\n",
    "predictions = model.predict(np.array([sample_text, padding]))\n",
    "print(predictions[0])"
   ]
  },
  {
   "cell_type": "code",
   "execution_count": 17,
   "id": "0f7523c5",
   "metadata": {
    "execution": {
     "iopub.execute_input": "2021-12-05T11:50:05.147816Z",
     "iopub.status.busy": "2021-12-05T11:50:05.147189Z",
     "iopub.status.idle": "2021-12-05T11:50:05.160832Z",
     "shell.execute_reply": "2021-12-05T11:50:05.161419Z",
     "shell.execute_reply.started": "2021-12-05T02:03:13.253538Z"
    },
    "papermill": {
     "duration": 0.038868,
     "end_time": "2021-12-05T11:50:05.161595",
     "exception": false,
     "start_time": "2021-12-05T11:50:05.122727",
     "status": "completed"
    },
    "tags": []
   },
   "outputs": [],
   "source": [
    "model.compile(loss=tf.keras.losses.BinaryCrossentropy(from_logits=True),\n",
    "              optimizer=tf.keras.optimizers.Adam(1e-4),\n",
    "              metrics=['accuracy'])"
   ]
  },
  {
   "cell_type": "code",
   "execution_count": 18,
   "id": "3514f123",
   "metadata": {
    "execution": {
     "iopub.execute_input": "2021-12-05T11:50:05.210539Z",
     "iopub.status.busy": "2021-12-05T11:50:05.209823Z",
     "iopub.status.idle": "2021-12-05T11:51:12.159844Z",
     "shell.execute_reply": "2021-12-05T11:51:12.158667Z",
     "shell.execute_reply.started": "2021-12-05T02:03:14.507965Z"
    },
    "papermill": {
     "duration": 66.975879,
     "end_time": "2021-12-05T11:51:12.160056",
     "exception": false,
     "start_time": "2021-12-05T11:50:05.184177",
     "status": "completed"
    },
    "tags": []
   },
   "outputs": [
    {
     "name": "stdout",
     "output_type": "stream",
     "text": [
      "Epoch 1/5\n",
      "200/200 [==============================] - 30s 76ms/step - loss: 0.6798 - accuracy: 0.5070 - val_loss: 0.6053 - val_accuracy: 0.6233\n",
      "Epoch 2/5\n",
      "200/200 [==============================] - 9s 46ms/step - loss: 0.4409 - accuracy: 0.8165 - val_loss: 0.3275 - val_accuracy: 0.8733\n",
      "Epoch 3/5\n",
      "200/200 [==============================] - 9s 46ms/step - loss: 0.3093 - accuracy: 0.8855 - val_loss: 0.2765 - val_accuracy: 0.8967\n",
      "Epoch 4/5\n",
      "200/200 [==============================] - 10s 50ms/step - loss: 0.2678 - accuracy: 0.8960 - val_loss: 0.2210 - val_accuracy: 0.8900\n",
      "Epoch 5/5\n",
      "200/200 [==============================] - 9s 45ms/step - loss: 0.2616 - accuracy: 0.8978 - val_loss: 0.2054 - val_accuracy: 0.9167\n"
     ]
    }
   ],
   "source": [
    "history = model.fit(train_dataset, epochs=5,\n",
    "                    validation_data=vaild_dataset,\n",
    "                    steps_per_epoch=200,\n",
    "                    validation_steps=30)"
   ]
  },
  {
   "cell_type": "code",
   "execution_count": 19,
   "id": "b8b35302",
   "metadata": {
    "execution": {
     "iopub.execute_input": "2021-12-05T11:51:12.571152Z",
     "iopub.status.busy": "2021-12-05T11:51:12.570125Z",
     "iopub.status.idle": "2021-12-05T11:51:20.159419Z",
     "shell.execute_reply": "2021-12-05T11:51:20.159869Z",
     "shell.execute_reply.started": "2021-12-05T02:04:29.053022Z"
    },
    "papermill": {
     "duration": 7.809311,
     "end_time": "2021-12-05T11:51:20.160092",
     "exception": false,
     "start_time": "2021-12-05T11:51:12.350781",
     "status": "completed"
    },
    "tags": []
   },
   "outputs": [
    {
     "name": "stdout",
     "output_type": "stream",
     "text": [
      "800/800 [==============================] - 8s 9ms/step - loss: 0.2364 - accuracy: 0.9139\n",
      "Test Loss: 0.23643267154693604\n",
      "Test Accuracy: 0.9138749837875366\n"
     ]
    }
   ],
   "source": [
    "test_loss, test_acc = model.evaluate(vaild_dataset)\n",
    "\n",
    "print('Test Loss:', test_loss)\n",
    "print('Test Accuracy:', test_acc)"
   ]
  },
  {
   "cell_type": "code",
   "execution_count": 20,
   "id": "a0cf3663",
   "metadata": {
    "execution": {
     "iopub.execute_input": "2021-12-05T11:51:20.630596Z",
     "iopub.status.busy": "2021-12-05T11:51:20.624259Z",
     "iopub.status.idle": "2021-12-05T11:51:21.031000Z",
     "shell.execute_reply": "2021-12-05T11:51:21.030322Z",
     "shell.execute_reply.started": "2021-12-05T02:04:37.709732Z"
    },
    "papermill": {
     "duration": 0.638919,
     "end_time": "2021-12-05T11:51:21.031145",
     "exception": false,
     "start_time": "2021-12-05T11:51:20.392226",
     "status": "completed"
    },
    "tags": []
   },
   "outputs": [
    {
     "data": {
      "text/plain": [
       "(0.0, 0.7035498425364495)"
      ]
     },
     "execution_count": 20,
     "metadata": {},
     "output_type": "execute_result"
    },
    {
     "data": {
      "image/png": "[encoded data removed]",
      "text/plain": [
       "<Figure size 576x288 with 2 Axes>"
      ]
     },
     "metadata": {
      "needs_background": "light"
     },
     "output_type": "display_data"
    }
   ],
   "source": [
    "plt.figure(figsize=(8, 4))\n",
    "plt.subplot(1, 2, 1)\n",
    "plot_graphs(history, 'accuracy')\n",
    "plt.ylim(None, 1)\n",
    "plt.subplot(1, 2, 2)\n",
    "plot_graphs(history, 'loss')\n",
    "plt.ylim(0, None)"
   ]
  },
  {
   "cell_type": "code",
   "execution_count": 21,
   "id": "fbbd9894",
   "metadata": {
    "execution": {
     "iopub.execute_input": "2021-12-05T11:51:21.507949Z",
     "iopub.status.busy": "2021-12-05T11:51:21.507194Z",
     "iopub.status.idle": "2021-12-05T11:51:26.071664Z",
     "shell.execute_reply": "2021-12-05T11:51:26.071127Z",
     "shell.execute_reply.started": "2021-12-05T02:05:08.510709Z"
    },
    "papermill": {
     "duration": 4.802904,
     "end_time": "2021-12-05T11:51:26.071827",
     "exception": false,
     "start_time": "2021-12-05T11:51:21.268923",
     "status": "completed"
    },
    "tags": []
   },
   "outputs": [
    {
     "name": "stdout",
     "output_type": "stream",
     "text": [
      "sentence: i love it\n",
      "result: positive(1)\n",
      "0.62277025\n"
     ]
    }
   ],
   "source": [
    "sample_text=\"i love it\"\n",
    "predictions = model.predict(np.array([sample_text]))\n",
    "print(\"sentence:\",sample_text)\n",
    "predictions = tf.nn.sigmoid(predictions)\n",
    "if predictions.numpy()[0][0] >= 0.5:\n",
    "    print(\"result:\",\"positive(1)\")\n",
    "else:\n",
    "    print(\"result:\",\"negative(0)\")\n",
    "    \n",
    "print(predictions.numpy()[0][0])"
   ]
  }
 ],
 "metadata": {
  "kernelspec": {
   "display_name": "Python 3",
   "language": "python",
   "name": "python3"
  },
  "language_info": {
   "codemirror_mode": {
    "name": "ipython",
    "version": 3
   },
   "file_extension": ".py",
   "mimetype": "text/x-python",
   "name": "python",
   "nbconvert_exporter": "python",
   "pygments_lexer": "ipython3",
   "version": "3.7.12"
  },
  "papermill": {
   "default_parameters": {},
   "duration": 113.784165,
   "end_time": "2021-12-05T11:51:29.329535",
   "environment_variables": {},
   "exception": null,
   "input_path": "__notebook__.ipynb",
   "output_path": "__notebook__.ipynb",
   "parameters": {},
   "start_time": "2021-12-05T11:49:35.545370",
   "version": "2.3.3"
  }
 },
 "nbformat": 4,
 "nbformat_minor": 5
}
