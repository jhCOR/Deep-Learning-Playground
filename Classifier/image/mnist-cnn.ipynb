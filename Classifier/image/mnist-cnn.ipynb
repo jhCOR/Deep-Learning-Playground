{
 "cells": [
  {
   "cell_type": "code",
   "execution_count": 2,
   "id": "2c0d0eb7",
   "metadata": {
    "execution": {
     "iopub.execute_input": "2022-02-01T02:13:12.678469Z",
     "iopub.status.busy": "2022-02-01T02:13:12.677786Z",
     "iopub.status.idle": "2022-02-01T02:13:18.809406Z",
     "shell.execute_reply": "2022-02-01T02:13:18.810155Z",
     "shell.execute_reply.started": "2022-02-01T02:06:04.846132Z"
    },
    "papermill": {
     "duration": 6.151666,
     "end_time": "2022-02-01T02:13:18.810389",
     "exception": false,
     "start_time": "2022-02-01T02:13:12.658723",
     "status": "completed"
    },
    "tags": []
   },
   "outputs": [
    {
     "name": "stdout",
     "output_type": "stream",
     "text": [
      "2.6.2\n"
     ]
    }
   ],
   "source": [
    "# TensorFlow and tf.keras\n",
    "import tensorflow as tf\n",
    "import pandas as pd\n",
    "# Helper libraries\n",
    "import numpy as np\n",
    "import matplotlib.pyplot as plt\n",
    "\n",
    "from tensorflow.keras.utils import to_categorical\n",
    "print(tf.__version__)"
   ]
  },
  {
   "cell_type": "code",
   "execution_count": 3,
   "id": "6ebd8c5f",
   "metadata": {
    "execution": {
     "iopub.execute_input": "2022-02-01T02:13:18.845663Z",
     "iopub.status.busy": "2022-02-01T02:13:18.844599Z",
     "iopub.status.idle": "2022-02-01T02:13:25.467442Z",
     "shell.execute_reply": "2022-02-01T02:13:25.466516Z",
     "shell.execute_reply.started": "2022-02-01T02:06:11.740392Z"
    },
    "papermill": {
     "duration": 6.6417,
     "end_time": "2022-02-01T02:13:25.467602",
     "exception": false,
     "start_time": "2022-02-01T02:13:18.825902",
     "status": "completed"
    },
    "tags": []
   },
   "outputs": [],
   "source": [
    "trainRawData = pd.read_csv('../input/digit-recognizer/train.csv')\n",
    "testRawData = pd.read_csv('../input/digit-recognizer/test.csv')\n",
    "\n",
    "train_label = trainRawData['label']\n",
    "train_label = to_categorical(train_label)\n",
    "\n",
    "train_data = (trainRawData.iloc[:, 1:].values.astype('float32') / 255.0 ).reshape(-1, 28, 28, 1)\n",
    "test_data = (testRawData.iloc[:,:].values.astype('float32') / 255.0 ).reshape(-1, 28, 28, 1)"
   ]
  },
  {
   "cell_type": "code",
   "execution_count": 4,
   "id": "26629005",
   "metadata": {
    "execution": {
     "iopub.execute_input": "2022-02-01T02:13:25.502732Z",
     "iopub.status.busy": "2022-02-01T02:13:25.501663Z",
     "iopub.status.idle": "2022-02-01T02:13:25.641510Z",
     "shell.execute_reply": "2022-02-01T02:13:25.642150Z",
     "shell.execute_reply.started": "2022-02-01T02:06:17.628661Z"
    },
    "papermill": {
     "duration": 0.15933,
     "end_time": "2022-02-01T02:13:25.642373",
     "exception": false,
     "start_time": "2022-02-01T02:13:25.483043",
     "status": "completed"
    },
    "tags": []
   },
   "outputs": [
    {
     "data": {
      "image/png": "[encoded data removed]",
      "text/plain": [
       "<Figure size 720x720 with 1 Axes>"
      ]
     },
     "metadata": {
      "needs_background": "light"
     },
     "output_type": "display_data"
    }
   ],
   "source": [
    "import matplotlib.pyplot as plt\n",
    "\n",
    "plt.figure(figsize=(10, 10))\n",
    "def show_as_img(data,label):\n",
    "    ax = plt.subplot(3, 3, 1)\n",
    "    plt.imshow(data)\n",
    "    plt.title(label)\n",
    "    plt.axis(\"off\")\n",
    "    \n",
    "show_as_img((trainRawData.iloc[1:2, 1:].values.astype('uint8')).reshape(28, 28, 1), trainRawData['label'][1] )"
   ]
  },
  {
   "cell_type": "code",
   "execution_count": 5,
   "id": "de9b922d",
   "metadata": {
    "execution": {
     "iopub.execute_input": "2022-02-01T02:13:25.680698Z",
     "iopub.status.busy": "2022-02-01T02:13:25.679792Z",
     "iopub.status.idle": "2022-02-01T02:13:27.351532Z",
     "shell.execute_reply": "2022-02-01T02:13:27.350722Z",
     "shell.execute_reply.started": "2022-02-01T02:06:17.763235Z"
    },
    "papermill": {
     "duration": 1.693199,
     "end_time": "2022-02-01T02:13:27.351688",
     "exception": false,
     "start_time": "2022-02-01T02:13:25.658489",
     "status": "completed"
    },
    "tags": []
   },
   "outputs": [],
   "source": [
    "from sklearn.model_selection import train_test_split\n",
    "train_input, val_input, train_label, val_label = train_test_split(train_data, train_label, shuffle=True, test_size = 0.1, stratify = train_label)\n",
    "#stratify: 데이터가 쏠려서 분배되는 것 방지"
   ]
  },
  {
   "cell_type": "code",
   "execution_count": 6,
   "id": "23420246",
   "metadata": {
    "execution": {
     "iopub.execute_input": "2022-02-01T02:13:27.390956Z",
     "iopub.status.busy": "2022-02-01T02:13:27.390221Z",
     "iopub.status.idle": "2022-02-01T02:13:27.534800Z",
     "shell.execute_reply": "2022-02-01T02:13:27.535422Z",
     "shell.execute_reply.started": "2022-02-01T02:06:19.545033Z"
    },
    "papermill": {
     "duration": 0.167741,
     "end_time": "2022-02-01T02:13:27.535620",
     "exception": false,
     "start_time": "2022-02-01T02:13:27.367879",
     "status": "completed"
    },
    "tags": []
   },
   "outputs": [
    {
     "name": "stderr",
     "output_type": "stream",
     "text": [
      "\n",
      "User settings:\n",
      "\n",
      "   KMP_AFFINITY=granularity=fine,noverbose,compact,1,0\n",
      "   KMP_BLOCKTIME=0\n",
      "   KMP_DUPLICATE_LIB_OK=True\n",
      "   KMP_INIT_AT_FORK=FALSE\n",
      "   KMP_SETTINGS=1\n",
      "   KMP_WARNINGS=0\n",
      "\n",
      "Effective settings:\n",
      "\n",
      "   KMP_ABORT_DELAY=0\n",
      "   KMP_ADAPTIVE_LOCK_PROPS='1,1024'\n",
      "   KMP_ALIGN_ALLOC=64\n",
      "   KMP_ALL_THREADPRIVATE=128\n",
      "   KMP_ATOMIC_MODE=2\n",
      "   KMP_BLOCKTIME=0\n",
      "   KMP_CPUINFO_FILE: value is not defined\n",
      "   KMP_DETERMINISTIC_REDUCTION=false\n",
      "   KMP_DEVICE_THREAD_LIMIT=2147483647\n",
      "   KMP_DISP_NUM_BUFFERS=7\n",
      "   KMP_DUPLICATE_LIB_OK=true\n",
      "   KMP_ENABLE_TASK_THROTTLING=true\n",
      "   KMP_FORCE_REDUCTION: value is not defined\n",
      "   KMP_FOREIGN_THREADS_THREADPRIVATE=true\n",
      "   KMP_FORKJOIN_BARRIER='2,2'\n",
      "   KMP_FORKJOIN_BARRIER_PATTERN='hyper,hyper'\n",
      "   KMP_GTID_MODE=3\n",
      "   KMP_HANDLE_SIGNALS=false\n",
      "   KMP_HOT_TEAMS_MAX_LEVEL=1\n",
      "   KMP_HOT_TEAMS_MODE=0\n",
      "   KMP_INIT_AT_FORK=true\n",
      "   KMP_LIBRARY=throughput\n",
      "   KMP_LOCK_KIND=queuing\n",
      "   KMP_MALLOC_POOL_INCR=1M\n",
      "   KMP_NUM_LOCKS_IN_BLOCK=1\n",
      "   KMP_PLAIN_BARRIER='2,2'\n",
      "   KMP_PLAIN_BARRIER_PATTERN='hyper,hyper'\n",
      "   KMP_REDUCTION_BARRIER='1,1'\n",
      "   KMP_REDUCTION_BARRIER_PATTERN='hyper,hyper'\n",
      "   KMP_SCHEDULE='static,balanced;guided,iterative'\n",
      "   KMP_SETTINGS=true\n",
      "   KMP_SPIN_BACKOFF_PARAMS='4096,100'\n",
      "   KMP_STACKOFFSET=64\n",
      "   KMP_STACKPAD=0\n",
      "   KMP_STACKSIZE=8M\n",
      "   KMP_STORAGE_MAP=false\n",
      "   KMP_TASKING=2\n",
      "   KMP_TASKLOOP_MIN_TASKS=0\n",
      "   KMP_TASK_STEALING_CONSTRAINT=1\n",
      "   KMP_TEAMS_THREAD_LIMIT=4\n",
      "   KMP_TOPOLOGY_METHOD=all\n",
      "   KMP_USE_YIELD=1\n",
      "   KMP_VERSION=false\n",
      "   KMP_WARNINGS=false\n",
      "   OMP_AFFINITY_FORMAT='OMP: pid %P tid %i thread %n bound to OS proc set {%A}'\n",
      "   OMP_ALLOCATOR=omp_default_mem_alloc\n",
      "   OMP_CANCELLATION=false\n",
      "   OMP_DEFAULT_DEVICE=0\n",
      "   OMP_DISPLAY_AFFINITY=false\n",
      "   OMP_DISPLAY_ENV=false\n",
      "   OMP_DYNAMIC=false\n",
      "   OMP_MAX_ACTIVE_LEVELS=1\n",
      "   OMP_MAX_TASK_PRIORITY=0\n",
      "   OMP_NESTED: deprecated; max-active-levels-var=1\n",
      "   OMP_NUM_THREADS: value is not defined\n",
      "   OMP_PLACES: value is not defined\n",
      "   OMP_PROC_BIND='intel'\n",
      "   OMP_SCHEDULE='static'\n",
      "   OMP_STACKSIZE=8M\n",
      "   OMP_TARGET_OFFLOAD=DEFAULT\n",
      "   OMP_THREAD_LIMIT=2147483647\n",
      "   OMP_WAIT_POLICY=PASSIVE\n",
      "   KMP_AFFINITY='noverbose,warnings,respect,granularity=fine,compact,1,0'\n",
      "\n",
      "2022-02-01 02:13:27.433349: I tensorflow/core/common_runtime/process_util.cc:146] Creating new thread pool with default inter op setting: 2. Tune using inter_op_parallelism_threads for best performance.\n"
     ]
    }
   ],
   "source": [
    "model_1 = tf.keras.Sequential([\n",
    "  tf.keras.layers.Conv2D(32, 3, input_shape=(28, 28, 1), activation='relu'),\n",
    "  tf.keras.layers.MaxPooling2D(),\n",
    "  tf.keras.layers.Flatten(),\n",
    "  tf.keras.layers.Dense(128,  activation=tf.keras.layers.LeakyReLU(alpha=0.01)),\n",
    "  tf.keras.layers.Dense(10, activation='softmax')\n",
    "])"
   ]
  },
  {
   "cell_type": "code",
   "execution_count": 7,
   "id": "4fca3396",
   "metadata": {
    "execution": {
     "iopub.execute_input": "2022-02-01T02:13:27.572947Z",
     "iopub.status.busy": "2022-02-01T02:13:27.571790Z",
     "iopub.status.idle": "2022-02-01T02:13:27.585240Z",
     "shell.execute_reply": "2022-02-01T02:13:27.585760Z",
     "shell.execute_reply.started": "2022-02-01T02:06:19.692037Z"
    },
    "papermill": {
     "duration": 0.033722,
     "end_time": "2022-02-01T02:13:27.585972",
     "exception": false,
     "start_time": "2022-02-01T02:13:27.552250",
     "status": "completed"
    },
    "tags": []
   },
   "outputs": [],
   "source": [
    "model = model_1\n",
    "model.compile(\n",
    "  optimizer='adam',\n",
    "  loss='categorical_crossentropy',\n",
    "  metrics=['accuracy'])\n",
    "# loss='categorical_crossentropy' -->원핫 인코딩(one-hot encoding) 시 사용하는 손실함수\n",
    "# loss='sparse_categorical_crossentropy \n",
    "#-->정수값 [0,1,2], 단 multiclass multilabel classification같은 하나의 input이 여러 class에 속할 수 있는 경우 사용불가"
   ]
  },
  {
   "cell_type": "code",
   "execution_count": 8,
   "id": "b438b18b",
   "metadata": {
    "execution": {
     "iopub.execute_input": "2022-02-01T02:13:27.621347Z",
     "iopub.status.busy": "2022-02-01T02:13:27.620676Z",
     "iopub.status.idle": "2022-02-01T02:15:53.793463Z",
     "shell.execute_reply": "2022-02-01T02:15:53.792766Z",
     "shell.execute_reply.started": "2022-02-01T02:10:52.913933Z"
    },
    "papermill": {
     "duration": 146.191501,
     "end_time": "2022-02-01T02:15:53.793745",
     "exception": false,
     "start_time": "2022-02-01T02:13:27.602244",
     "status": "completed"
    },
    "tags": []
   },
   "outputs": [
    {
     "name": "stderr",
     "output_type": "stream",
     "text": [
      "2022-02-01 02:13:27.797303: I tensorflow/compiler/mlir/mlir_graph_optimization_pass.cc:185] None of the MLIR Optimization Passes are enabled (registered 2)\n"
     ]
    },
    {
     "name": "stdout",
     "output_type": "stream",
     "text": [
      "Epoch 1/20\n",
      "1182/1182 [==============================] - 10s 8ms/step - loss: 0.1877 - accuracy: 0.9438 - val_loss: 0.0833 - val_accuracy: 0.9729\n",
      "Epoch 2/20\n",
      "1182/1182 [==============================] - 9s 8ms/step - loss: 0.0587 - accuracy: 0.9828 - val_loss: 0.0565 - val_accuracy: 0.9814\n",
      "Epoch 3/20\n",
      "1182/1182 [==============================] - 10s 9ms/step - loss: 0.0361 - accuracy: 0.9884 - val_loss: 0.0467 - val_accuracy: 0.9850\n",
      "Epoch 4/20\n",
      "1182/1182 [==============================] - 9s 8ms/step - loss: 0.0238 - accuracy: 0.9922 - val_loss: 0.0521 - val_accuracy: 0.9831\n",
      "Epoch 5/20\n",
      "1182/1182 [==============================] - 9s 8ms/step - loss: 0.0137 - accuracy: 0.9960 - val_loss: 0.0460 - val_accuracy: 0.9867\n",
      "Epoch 6/20\n",
      "1182/1182 [==============================] - 9s 8ms/step - loss: 0.0114 - accuracy: 0.9963 - val_loss: 0.0492 - val_accuracy: 0.9848\n",
      "Epoch 7/20\n",
      "1182/1182 [==============================] - 11s 9ms/step - loss: 0.0088 - accuracy: 0.9970 - val_loss: 0.0664 - val_accuracy: 0.9817\n",
      "Epoch 8/20\n",
      "1182/1182 [==============================] - 10s 8ms/step - loss: 0.0064 - accuracy: 0.9979 - val_loss: 0.0501 - val_accuracy: 0.9871\n",
      "Epoch 9/20\n",
      "1182/1182 [==============================] - 9s 8ms/step - loss: 0.0046 - accuracy: 0.9984 - val_loss: 0.0751 - val_accuracy: 0.9814\n",
      "Epoch 10/20\n",
      "1182/1182 [==============================] - 11s 9ms/step - loss: 0.0054 - accuracy: 0.9983 - val_loss: 0.0596 - val_accuracy: 0.9867\n",
      "Epoch 11/20\n",
      "1182/1182 [==============================] - 10s 8ms/step - loss: 0.0034 - accuracy: 0.9991 - val_loss: 0.0642 - val_accuracy: 0.9869\n",
      "Epoch 12/20\n",
      "1182/1182 [==============================] - 9s 8ms/step - loss: 0.0019 - accuracy: 0.9996 - val_loss: 0.0509 - val_accuracy: 0.9890\n",
      "Epoch 13/20\n",
      "1182/1182 [==============================] - 10s 8ms/step - loss: 0.0064 - accuracy: 0.9978 - val_loss: 0.0556 - val_accuracy: 0.9852\n",
      "Epoch 14/20\n",
      "1182/1182 [==============================] - 10s 9ms/step - loss: 0.0021 - accuracy: 0.9994 - val_loss: 0.0645 - val_accuracy: 0.9845\n",
      "Epoch 15/20\n",
      "1182/1182 [==============================] - 9s 8ms/step - loss: 0.0021 - accuracy: 0.9994 - val_loss: 0.0611 - val_accuracy: 0.9867\n"
     ]
    }
   ],
   "source": [
    "callback = tf.keras.callbacks.EarlyStopping(monitor='loss', patience=3)\n",
    "history = model.fit(\n",
    "  train_input, train_label,\n",
    "  validation_data=(val_input, val_label),\n",
    "  epochs=20,\n",
    "  callbacks=[callback]\n",
    ")"
   ]
  },
  {
   "cell_type": "code",
   "execution_count": 9,
   "id": "30af2370",
   "metadata": {
    "execution": {
     "iopub.execute_input": "2022-02-01T02:15:55.599664Z",
     "iopub.status.busy": "2022-02-01T02:15:55.598958Z",
     "iopub.status.idle": "2022-02-01T02:15:55.608102Z",
     "shell.execute_reply": "2022-02-01T02:15:55.608817Z",
     "shell.execute_reply.started": "2022-02-01T02:12:08.494938Z"
    },
    "papermill": {
     "duration": 0.913981,
     "end_time": "2022-02-01T02:15:55.608995",
     "exception": false,
     "start_time": "2022-02-01T02:15:54.695014",
     "status": "completed"
    },
    "tags": []
   },
   "outputs": [
    {
     "name": "stdout",
     "output_type": "stream",
     "text": [
      "Model: \"sequential\"\n",
      "_________________________________________________________________\n",
      "Layer (type)                 Output Shape              Param #   \n",
      "=================================================================\n",
      "conv2d (Conv2D)              (None, 26, 26, 32)        320       \n",
      "_________________________________________________________________\n",
      "max_pooling2d (MaxPooling2D) (None, 13, 13, 32)        0         \n",
      "_________________________________________________________________\n",
      "flatten (Flatten)            (None, 5408)              0         \n",
      "_________________________________________________________________\n",
      "dense (Dense)                (None, 128)               692352    \n",
      "_________________________________________________________________\n",
      "dense_1 (Dense)              (None, 10)                1290      \n",
      "=================================================================\n",
      "Total params: 693,962\n",
      "Trainable params: 693,962\n",
      "Non-trainable params: 0\n",
      "_________________________________________________________________\n"
     ]
    }
   ],
   "source": [
    "model.summary()"
   ]
  },
  {
   "cell_type": "code",
   "execution_count": 10,
   "id": "2dd3185b",
   "metadata": {
    "execution": {
     "iopub.execute_input": "2022-02-01T02:15:57.422489Z",
     "iopub.status.busy": "2022-02-01T02:15:57.421774Z",
     "iopub.status.idle": "2022-02-01T02:16:51.552672Z",
     "shell.execute_reply": "2022-02-01T02:16:51.542940Z",
     "shell.execute_reply.started": "2022-02-01T02:12:10.701492Z"
    },
    "papermill": {
     "duration": 55.036765,
     "end_time": "2022-02-01T02:16:51.552852",
     "exception": false,
     "start_time": "2022-02-01T02:15:56.516087",
     "status": "completed"
    },
    "tags": []
   },
   "outputs": [
    {
     "name": "stdout",
     "output_type": "stream",
     "text": [
      "132/132 [==============================] - 0s 3ms/step - loss: 0.0611 - accuracy: 0.9867\n"
     ]
    },
    {
     "data": {
      "text/plain": [
       "[0.06105959042906761, 0.9866666793823242]"
      ]
     },
     "execution_count": 10,
     "metadata": {},
     "output_type": "execute_result"
    }
   ],
   "source": [
    "model.evaluate(val_input,val_label)"
   ]
  },
  {
   "cell_type": "code",
   "execution_count": 11,
   "id": "7f6b4a3f",
   "metadata": {
    "execution": {
     "iopub.execute_input": "2022-02-01T02:16:53.380147Z",
     "iopub.status.busy": "2022-02-01T02:16:53.379084Z",
     "iopub.status.idle": "2022-02-01T02:16:53.384957Z",
     "shell.execute_reply": "2022-02-01T02:16:53.385622Z",
     "shell.execute_reply.started": "2022-02-01T02:12:18.055380Z"
    },
    "papermill": {
     "duration": 0.933167,
     "end_time": "2022-02-01T02:16:53.385853",
     "exception": false,
     "start_time": "2022-02-01T02:16:52.452686",
     "status": "completed"
    },
    "tags": []
   },
   "outputs": [],
   "source": [
    "import matplotlib.pyplot as plt\n",
    "\n",
    "def plot_graphs(history, metric):\n",
    "  plt.plot(history.history[metric])\n",
    "  plt.plot(history.history['val_'+metric], '')\n",
    "  plt.xlabel(\"Epochs\")\n",
    "  plt.ylabel(metric)\n",
    "  plt.legend([metric, 'val_'+metric])"
   ]
  },
  {
   "cell_type": "code",
   "execution_count": 12,
   "id": "c33c77fc",
   "metadata": {
    "execution": {
     "iopub.execute_input": "2022-02-01T02:16:55.251750Z",
     "iopub.status.busy": "2022-02-01T02:16:55.251061Z",
     "iopub.status.idle": "2022-02-01T02:16:55.639919Z",
     "shell.execute_reply": "2022-02-01T02:16:55.639153Z",
     "shell.execute_reply.started": "2022-02-01T02:12:20.050504Z"
    },
    "papermill": {
     "duration": 1.347828,
     "end_time": "2022-02-01T02:16:55.640088",
     "exception": false,
     "start_time": "2022-02-01T02:16:54.292260",
     "status": "completed"
    },
    "tags": []
   },
   "outputs": [
    {
     "data": {
      "text/plain": [
       "(0.0, 0.19699440876138397)"
      ]
     },
     "execution_count": 12,
     "metadata": {},
     "output_type": "execute_result"
    },
    {
     "data": {
      "image/png": "[encoded data removed]",
      "text/plain": [
       "<Figure size 576x288 with 2 Axes>"
      ]
     },
     "metadata": {
      "needs_background": "light"
     },
     "output_type": "display_data"
    }
   ],
   "source": [
    "plt.figure(figsize=(8, 4))\n",
    "plt.subplot(1, 2, 1)\n",
    "plot_graphs(history, 'accuracy')\n",
    "plt.ylim(None, 1)\n",
    "plt.subplot(1, 2, 2)\n",
    "plot_graphs(history, 'loss')\n",
    "plt.ylim(0, None)"
   ]
  },
  {
   "cell_type": "code",
   "execution_count": 13,
   "id": "860e695e",
   "metadata": {
    "execution": {
     "iopub.execute_input": "2022-02-01T02:16:57.464166Z",
     "iopub.status.busy": "2022-02-01T02:16:57.463503Z",
     "iopub.status.idle": "2022-02-01T02:16:57.468502Z",
     "shell.execute_reply": "2022-02-01T02:16:57.467922Z",
     "shell.execute_reply.started": "2022-02-01T02:12:22.403605Z"
    },
    "papermill": {
     "duration": 0.924439,
     "end_time": "2022-02-01T02:16:57.468670",
     "exception": false,
     "start_time": "2022-02-01T02:16:56.544231",
     "status": "completed"
    },
    "tags": []
   },
   "outputs": [
    {
     "name": "stdout",
     "output_type": "stream",
     "text": [
      "(28000, 28, 28, 1)\n"
     ]
    }
   ],
   "source": [
    "x_test = testRawData.to_numpy().reshape(testRawData.shape[0], 28,28,1)\n",
    "print(x_test.shape)"
   ]
  },
  {
   "cell_type": "code",
   "execution_count": 14,
   "id": "ad220c90",
   "metadata": {
    "execution": {
     "iopub.execute_input": "2022-02-01T02:16:59.293524Z",
     "iopub.status.busy": "2022-02-01T02:16:59.292777Z",
     "iopub.status.idle": "2022-02-01T02:17:01.636014Z",
     "shell.execute_reply": "2022-02-01T02:17:01.636596Z",
     "shell.execute_reply.started": "2022-02-01T02:12:38.605277Z"
    },
    "papermill": {
     "duration": 3.25957,
     "end_time": "2022-02-01T02:17:01.636776",
     "exception": false,
     "start_time": "2022-02-01T02:16:58.377206",
     "status": "completed"
    },
    "tags": []
   },
   "outputs": [
    {
     "name": "stdout",
     "output_type": "stream",
     "text": [
      "[2 0 9 ... 3 9 2]\n"
     ]
    }
   ],
   "source": [
    "prediction = model.predict(x_test)\n",
    "prediction = np.argmax(prediction,axis=1)\n",
    "print(prediction)"
   ]
  }
 ],
 "metadata": {
  "kernelspec": {
   "display_name": "Python 3",
   "language": "python",
   "name": "python3"
  },
  "language_info": {
   "codemirror_mode": {
    "name": "ipython",
    "version": 3
   },
   "file_extension": ".py",
   "mimetype": "text/x-python",
   "name": "python",
   "nbconvert_exporter": "python",
   "pygments_lexer": "ipython3",
   "version": "3.7.12"
  },
  "papermill": {
   "default_parameters": {},
   "duration": 244.950223,
   "end_time": "2022-02-01T02:17:07.533147",
   "environment_variables": {},
   "exception": null,
   "input_path": "__notebook__.ipynb",
   "output_path": "__notebook__.ipynb",
   "parameters": {},
   "start_time": "2022-02-01T02:13:02.582924",
   "version": "2.3.3"
  }
 },
 "nbformat": 4,
 "nbformat_minor": 5
}
