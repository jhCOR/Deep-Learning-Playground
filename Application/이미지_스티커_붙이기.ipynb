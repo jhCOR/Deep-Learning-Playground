{
  "cells": [
    {
      "cell_type": "code",
      "execution_count": null,
      "metadata": {
        "id": "3R9sz80gZ0kj"
      },
      "outputs": [],
      "source": [
        "# 이미지 처리를 위해 opencv 와 노트북에 이미지를 출력하기 위한 matplotlib를 읽어오기\n",
        "import cv2\n",
        "import matplotlib.pyplot as plt\n",
        "import numpy as np"
      ]
    },
    {
      "cell_type": "code",
      "execution_count": null,
      "metadata": {},
      "outputs": [],
      "source": [
        "# 이미지 읽어와서 resize후 저장\n",
        "import cv2\n",
        "import matplotlib.pyplot as plt\n",
        "import numpy as np\n",
        "\n",
        "my_image_path = 'path'\n",
        "img_bgr = cv2.imread(my_image_path)\n",
        "img_bgr = cv2.resize(img_bgr, (640, 640))\n",
        "img_show = img_bgr.copy()\n",
        "plt.imshow(img_bgr)\n",
        "plt.show()\n",
        "\n",
        "img_rgb = cv2.cvtColor(img_bgr, cv2.COLOR_BGR2RGB)\n",
        "plt.imshow(img_rgb)\n",
        "plt.show()"
      ]
    },
    {
      "cell_type": "code",
      "execution_count": null,
      "metadata": {
        "id": "0U-1nqpSZ-QR"
      },
      "outputs": [],
      "source": [
        "import dlib\n",
        "detector_hog = dlib.get_frontal_face_detector()"
      ]
    },
    {
      "cell_type": "code",
      "execution_count": null,
      "metadata": {
        "id": "wpO9ry0wZ-Yg"
      },
      "outputs": [],
      "source": [
        "# detector를 이용해서 얼굴의 bounding box를 추출\n",
        "# dlib은 rgb 이미지를 입력으로 받기 때문에 cvtColor() 를 이용해서 opencv 의 bgr 이미지를 rgb로 변환\n",
        "img_rgb = cv2.cvtColor(img_bgr, cv2.COLOR_BGR2RGB)\n",
        "dlib_rects = detector_hog(img_rgb, 1)"
      ]
    },
    {
      "cell_type": "code",
      "execution_count": null,
      "metadata": {},
      "outputs": [],
      "source": [
        "# bounding box로 얼굴 좌표를 찾은 후 출력\n",
        "# dlib.rectangle객체는 left(), top(), right(), bottom(), height(), width()로 이루어짐\n",
        "print(dlib_rects)   # 찾은 얼굴영역 좌표\n",
        "\n",
        "for dlib_rect in dlib_rects:\n",
        "    l = dlib_rect.left()\n",
        "    t = dlib_rect.top()\n",
        "    r = dlib_rect.right()\n",
        "    b = dlib_rect.bottom()\n",
        "\n",
        "    cv2.rectangle(img_show, (l,t), (r,b), (0,255,0), 2, lineType=cv2.LINE_AA)\n",
        "\n",
        "img_show_rgb =  cv2.cvtColor(img_show, cv2.COLOR_BGR2RGB)\n",
        "plt.imshow(img_show_rgb)\n",
        "plt.show()"
      ]
    },
    {
      "cell_type": "code",
      "execution_count": null,
      "metadata": {
        "id": "maYTCXYZaFnx"
      },
      "outputs": [],
      "source": [
        "list_points = [(100,100),(150,150)]"
      ]
    },
    {
      "cell_type": "code",
      "execution_count": null,
      "metadata": {},
      "outputs": [],
      "source": [
        "for idx, point in enumerate(list_points):\n",
        "    cv2.circle(img_show, point, 4, (0, 255, 255), -1) # yellow\n",
        "\n",
        "img_show_rgb = cv2.cvtColor(img_show, cv2.COLOR_BGR2RGB)\n",
        "plt.imshow(img_show_rgb)\n",
        "plt.show()"
      ]
    },
    {
      "cell_type": "code",
      "execution_count": null,
      "metadata": {
        "id": "iS4hCFqLhy8X"
      },
      "outputs": [],
      "source": [
        "w = dlib_rect.width()\n",
        "h = dlib_rect.width()\n",
        "x = 270\n",
        "y = 170"
      ]
    },
    {
      "cell_type": "code",
      "execution_count": null,
      "metadata": {
        "colab": {
          "base_uri": "https://localhost:8080/"
        },
        "id": "cEGXjj5YaK4l",
        "outputId": "b6a31d82-c7f8-4618-dc51-33e2cdf32c8b"
      },
      "outputs": [
        {
          "name": "stdout",
          "output_type": "stream",
          "text": [
            "(186, 186, 3)\n"
          ]
        }
      ],
      "source": [
        "# 스티커를 좌표 사이즈에 맞게 리사이즈\n",
        "sticker_path = '/content/drive/My Drive/images/king.png'\n",
        "img_sticker = cv2.imread(sticker_path)\n",
        "img_sticker = cv2.resize(img_sticker, (w,h))\n",
        "print (img_sticker.shape)"
      ]
    },
    {
      "cell_type": "code",
      "execution_count": null,
      "metadata": {
        "colab": {
          "base_uri": "https://localhost:8080/"
        },
        "id": "x7maBB4DfPgw",
        "outputId": "8c6f2441-5547-4230-aa3a-9d3cfcf7cbfa"
      },
      "outputs": [
        {
          "name": "stdout",
          "output_type": "stream",
          "text": [
            "(x,y) : (177,-16)\n"
          ]
        }
      ],
      "source": [
        "refined_x = x - w // 2  # left\n",
        "refined_y = y - h       # top\n",
        "print ('(x,y) : (%d,%d)'%(refined_x, refined_y))"
      ]
    },
    {
      "cell_type": "code",
      "execution_count": null,
      "metadata": {
        "colab": {
          "base_uri": "https://localhost:8080/"
        },
        "id": "ezJEdhXBaNej",
        "outputId": "56c372c2-4fdd-4cb8-eea3-2ee705508572"
      },
      "outputs": [
        {
          "name": "stdout",
          "output_type": "stream",
          "text": [
            "(170, 186, 3)\n"
          ]
        }
      ],
      "source": [
        "# opencv 데이터는 numpy ndarray 형태의 데이터를 사용하기때문에 ndarray는 음수 인덱스에 접근할 수 없어 음수에 대한 예외 처리해줘야함\n",
        "img_sticker = img_sticker[-refined_y:]\n",
        "print (img_sticker.shape)"
      ]
    },
    {
      "cell_type": "code",
      "execution_count": null,
      "metadata": {
        "colab": {
          "base_uri": "https://localhost:8080/"
        },
        "id": "XDZW3Me2aOy0",
        "outputId": "7b216806-5e10-45d8-83b6-95e3a162ebcc"
      },
      "outputs": [
        {
          "name": "stdout",
          "output_type": "stream",
          "text": [
            "(x,y) : (177,0)\n"
          ]
        }
      ],
      "source": [
        "# 음수값을 갖던 윗부분을 제거\n",
        "refined_y = 0\n",
        "print ('(x,y) : (%d,%d)'%(refined_x, refined_y))"
      ]
    },
    {
      "cell_type": "code",
      "execution_count": null,
      "metadata": {
        "id": "4S3iXzxRaQZU"
      },
      "outputs": [],
      "source": [
        "# 원본 이미지에 스티커를 적용\n",
        "sticker_area = img_show[refined_y:img_sticker.shape[0], refined_x:refined_x+img_sticker.shape[1]]\n",
        "img_show[refined_y:img_sticker.shape[0], refined_x:refined_x+img_sticker.shape[1]] = \\\n",
        "    np.where(img_sticker==0,sticker_area,img_sticker).astype(np.uint8)"
      ]
    },
    {
      "cell_type": "code",
      "execution_count": null,
      "metadata": {},
      "outputs": [],
      "source": [
        "plt.imshow(cv2.cvtColor(img_show, cv2.COLOR_BGR2RGB))\n",
        "plt.show()"
      ]
    },
    {
      "cell_type": "code",
      "execution_count": null,
      "metadata": {},
      "outputs": [],
      "source": [
        "# bounding box와 landmark를 제거\n",
        "sticker_area = img_bgr[refined_y:img_sticker.shape[0], refined_x:refined_x+img_sticker.shape[1]]\n",
        "img_bgr[refined_y:img_sticker.shape[0], refined_x:refined_x+img_sticker.shape[1]] = \\\n",
        "    np.where(img_sticker==0,sticker_area,img_sticker).astype(np.uint8)\n",
        "plt.imshow(cv2.cvtColor(img_bgr, cv2.COLOR_BGR2RGB))\n",
        "plt.show()"
      ]
    }
  ],
  "metadata": {
    "colab": {
      "provenance": []
    },
    "kernelspec": {
      "display_name": "Python 3",
      "name": "python3"
    },
    "language_info": {
      "name": "python"
    }
  },
  "nbformat": 4,
  "nbformat_minor": 0
}
